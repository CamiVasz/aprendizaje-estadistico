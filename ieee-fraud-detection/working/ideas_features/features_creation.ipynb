{
 "cells": [
  {
   "cell_type": "code",
   "execution_count": 1,
   "metadata": {},
   "outputs": [],
   "source": [
    "import sys\n",
    "import numpy as np\n",
    "import pandas as pd\n",
    "import seaborn as sns\n",
    "\n",
    "sys.path.append('..')\n",
    "from utils import plot_counts_and_proportion, read_train_transaction, get_categorical_from_df"
   ]
  },
  {
   "cell_type": "code",
   "execution_count": 230,
   "metadata": {},
   "outputs": [],
   "source": [
    "X, y = read_train_transaction(nrows=5000)"
   ]
  },
  {
   "cell_type": "markdown",
   "metadata": {},
   "source": [
    "## IDEAS\n",
    "\n",
    "1. Cierto tipo de tarjetas son normalmente utilizadas para hacer transacciones de cantidades más altas, otras más bajas. El valor de la transacción está en *'TransactionAmt'*, pero deberiamos poner eso en proporción a la tarjeta utilizada. También valdría la pena compararlo con la desviación estandar.\n",
    "\n",
    "Entonces hay 3 ideas:\n",
    "estimar _mean_ y _std_\n",
    "- X[col] / (estimador de X[col] en la categoria utilizada en X[cat].()\n",
    "- X[col] / coeficiente_variacion  X[col] en la categoria utilizada en X[cat]\n",
    "\n",
    "\n",
    "*Utilizarlo con:*\n",
    "tarjeta 6 que es tipo de tarjeta\n",
    "tarjeta 4 que es compañia\n",
    "tarjeta 1, que no sé que es\n",
    "tarjeta 2, que no sé que es\n",
    "addr1, que histplot hace parecer que significa algo\n",
    "\n",
    "2. Separar los correos por puntos, para obtener, nombre dominio\n",
    "Así lo he visto utilizar\n",
    "train[['P_emaildomain_1', 'P_emaildomain_2', 'P_emaildomain_3']] = train['P_emaildomain'].str.split('.', expand=True)\n",
    "Haría esto\n",
    "\n",
    "\n",
    "\n",
    "\n"
   ]
  },
  {
   "cell_type": "code",
   "execution_count": 4,
   "metadata": {},
   "outputs": [],
   "source": [
    "def prop_col_over_mean_category(X, col, cat, est='mean'):\n",
    "    '''\n",
    "    Retorna una columna de tamaño X[col], de tal manera\n",
    "    que sus componentes son\n",
    "     X[col] / (estimador de X[col] en la categoria utilizada en X[cat].()\n",
    "     \n",
    "     WARNINGS:\n",
    "         Usar est = 'std' puede propagar NaN si solo hay un elemento en cat.\n",
    "     \n",
    "     Inputs:\n",
    "         X:\n",
    "             Pandas dataframe\n",
    "        col:\n",
    "            column in X\n",
    "        cat:\n",
    "            Column in X, category\n",
    "        est:\n",
    "            Transformation utilizaed un df.groupby().transform\n",
    "            Can be median mean or std\n",
    "    Outputs:\n",
    "        S: Pandas series\n",
    "            as described above\n",
    "    '''\n",
    "    # Transform('mean') is diff to .mean()\n",
    "    # Transform returns a df of equal size,\n",
    "    # .mean() groups by \n",
    "    S = X[col] / X.groupby([cat])[col].transform(est)\n",
    "    return S"
   ]
  },
  {
   "cell_type": "code",
   "execution_count": 5,
   "metadata": {},
   "outputs": [
    {
     "name": "stdout",
     "output_type": "stream",
     "text": [
      "\n",
      "----- CLIENTE 4  ------\n",
      "tarjeta_usada_por_transactioni -> 4497\n",
      "promedio de esa tajeta -> 50.0\n",
      "pago original cliente i -> 50.0\n",
      "pago_div_prom_tarjeta  -> 1.0\n",
      "\n"
     ]
    }
   ],
   "source": [
    "i = 2\n",
    "iindex = X.index[i]\n",
    "tarjeta_usada_por_transactioni = X.iloc[i, :]['card1']\n",
    "promedio_de_esa_tarjeta = X.groupby(['card1'])['TransactionAmt'].mean().loc[tarjeta_usada_por_transactioni]\n",
    "pago_original = X.loc[iindex, 'TransactionAmt']\n",
    "pago_div_prom_tarjeta = X.loc[iindex, 'TransactionAmt']/ promedio_de_esa_tarjeta\n",
    "\n",
    "print(f'''\n",
    "----- CLIENTE {i}  ------\n",
    "tarjeta_usada_por_transactioni -> {tarjeta_usada_por_transactioni}\n",
    "promedio de esa tajeta -> {promedio_de_esa_tarjeta}\n",
    "pago original cliente i -> {pago_original}\n",
    "pago_div_prom_tarjeta  -> {pago_div_prom_tarjeta}\n",
    "''')"
   ]
  },
  {
   "cell_type": "code",
   "execution_count": 6,
   "metadata": {},
   "outputs": [
    {
     "data": {
      "text/plain": [
       "TransactionID\n",
       "2987000    1.000000\n",
       "2987001    0.210592\n",
       "2987002    0.628435\n",
       "2987003    0.382926\n",
       "2987004    1.000000\n",
       "             ...   \n",
       "2991995    0.132007\n",
       "2991996    0.901549\n",
       "2991997    0.909148\n",
       "2991998    1.000000\n",
       "2991999    1.000000\n",
       "Name: TransactionAmt, Length: 5000, dtype: float64"
      ]
     },
     "execution_count": 6,
     "metadata": {},
     "output_type": "execute_result"
    }
   ],
   "source": [
    "prop_col_over_mean_category(X, 'TransactionAmt', 'card1', est='mean')"
   ]
  },
  {
   "cell_type": "code",
   "execution_count": 7,
   "metadata": {},
   "outputs": [],
   "source": [
    "# from itertools import product\n",
    "\n",
    "# Crearia las siguientes\n",
    "# cols = ['TransactionAmt']\n",
    "# He visto que utilizan 'D15'\n",
    "### sns.distplot(X['D15'])\n",
    "# No se bien por qué\n",
    "\n",
    "# ests = ['mean', 'std'] # or ['median', 'std']\n",
    "\n",
    "# cats = ['card1', 'card2', 'card4', 'card6']\n",
    "# cats = [*cats, 'M1', 'M2', 'M3', 'M4', 'M5', 'M6'] # Nan propagation?\n",
    "# cats = [*cats, 'addr1', 'addr2']\n",
    "# for col, cat, est in product(cols, cats, ests):\n",
    "#     X[f'{col}_to_{est}_{cat}'] = prop_col_over_mean_category(X, col, cat, est)"
   ]
  },
  {
   "cell_type": "code",
   "execution_count": null,
   "metadata": {},
   "outputs": [],
   "source": [
    "#\n",
    "\n"
   ]
  },
  {
   "cell_type": "code",
   "execution_count": 72,
   "metadata": {},
   "outputs": [],
   "source": [
    "def names_and_domains(mails):\n",
    "    df = X['P_emaildomain'].str.split('.', expand=True)\n",
    "    # We are translating the middle to last column rows in ['outlook', 'com', NaN]\n",
    "    # But not columns in ['outlook', 'com', 'es']\n",
    "    df[2].fillna(df[1], inplace=True)\n",
    "    return df.drop(1, axis=1)"
   ]
  },
  {
   "cell_type": "code",
   "execution_count": 74,
   "metadata": {},
   "outputs": [],
   "source": [
    "X[['P_email1', 'P_email2']] =  names_and_domains(X['P_emaildomain'])\n",
    "X[['R_email1', 'R_email2']] =  names_and_domains(X['R_emaildomain'])"
   ]
  },
  {
   "cell_type": "code",
   "execution_count": 76,
   "metadata": {},
   "outputs": [
    {
     "data": {
      "text/html": [
       "<div>\n",
       "<style scoped>\n",
       "    .dataframe tbody tr th:only-of-type {\n",
       "        vertical-align: middle;\n",
       "    }\n",
       "\n",
       "    .dataframe tbody tr th {\n",
       "        vertical-align: top;\n",
       "    }\n",
       "\n",
       "    .dataframe thead th {\n",
       "        text-align: right;\n",
       "    }\n",
       "</style>\n",
       "<table border=\"1\" class=\"dataframe\">\n",
       "  <thead>\n",
       "    <tr style=\"text-align: right;\">\n",
       "      <th></th>\n",
       "      <th>P_email1</th>\n",
       "      <th>P_email2</th>\n",
       "    </tr>\n",
       "    <tr>\n",
       "      <th>TransactionID</th>\n",
       "      <th></th>\n",
       "      <th></th>\n",
       "    </tr>\n",
       "  </thead>\n",
       "  <tbody>\n",
       "    <tr>\n",
       "      <th>2987000</th>\n",
       "      <td>NaN</td>\n",
       "      <td>NaN</td>\n",
       "    </tr>\n",
       "    <tr>\n",
       "      <th>2987001</th>\n",
       "      <td>gmail</td>\n",
       "      <td>com</td>\n",
       "    </tr>\n",
       "    <tr>\n",
       "      <th>2987002</th>\n",
       "      <td>outlook</td>\n",
       "      <td>com</td>\n",
       "    </tr>\n",
       "    <tr>\n",
       "      <th>2987003</th>\n",
       "      <td>yahoo</td>\n",
       "      <td>com</td>\n",
       "    </tr>\n",
       "    <tr>\n",
       "      <th>2987004</th>\n",
       "      <td>gmail</td>\n",
       "      <td>com</td>\n",
       "    </tr>\n",
       "  </tbody>\n",
       "</table>\n",
       "</div>"
      ],
      "text/plain": [
       "              P_email1 P_email2\n",
       "TransactionID                  \n",
       "2987000            NaN      NaN\n",
       "2987001          gmail      com\n",
       "2987002        outlook      com\n",
       "2987003          yahoo      com\n",
       "2987004          gmail      com"
      ]
     },
     "execution_count": 76,
     "metadata": {},
     "output_type": "execute_result"
    }
   ],
   "source": [
    "X[['P_email1', 'P_email2']].head()"
   ]
  },
  {
   "cell_type": "markdown",
   "metadata": {},
   "source": [
    "# Transformada logaritmica"
   ]
  },
  {
   "cell_type": "code",
   "execution_count": 79,
   "metadata": {},
   "outputs": [],
   "source": [
    "X['LogTransactionAmt'] = np.log(X['TransactionAmt'])"
   ]
  },
  {
   "cell_type": "code",
   "execution_count": 82,
   "metadata": {},
   "outputs": [
    {
     "data": {
      "text/plain": [
       "<matplotlib.axes._subplots.AxesSubplot at 0x7fbff0e9b220>"
      ]
     },
     "execution_count": 82,
     "metadata": {},
     "output_type": "execute_result"
    },
    {
     "data": {
      "image/png": "[encoded data removed]",
      "text/plain": [
       "<Figure size 432x288 with 1 Axes>"
      ]
     },
     "metadata": {
      "needs_background": "light"
     },
     "output_type": "display_data"
    }
   ],
   "source": [
    "sns.distplot(X['TransactionAmt'])"
   ]
  },
  {
   "cell_type": "code",
   "execution_count": 84,
   "metadata": {},
   "outputs": [
    {
     "data": {
      "text/plain": [
       "<matplotlib.axes._subplots.AxesSubplot at 0x7fbff12426d0>"
      ]
     },
     "execution_count": 84,
     "metadata": {},
     "output_type": "execute_result"
    },
    {
     "data": {
      "image/png": "[encoded data removed]",
      "text/plain": [
       "<Figure size 432x288 with 1 Axes>"
      ]
     },
     "metadata": {
      "needs_background": "light"
     },
     "output_type": "display_data"
    }
   ],
   "source": [
    "sns.distplot(X['LogTransactionAmt'])"
   ]
  },
  {
   "cell_type": "markdown",
   "metadata": {},
   "source": [
    "# Agrupar los grupos pequeños en una sola categoría"
   ]
  },
  {
   "cell_type": "code",
   "execution_count": 95,
   "metadata": {},
   "outputs": [
    {
     "data": {
      "text/plain": [
       "Index(['gmail.com', 'anonymous.com', 'hotmail.com', 'yahoo.com', 'outlook.com',\n",
       "       'yahoo.com.mx', 'aol.com', 'icloud.com', 'comcast.net', 'live.com.mx',\n",
       "       'verizon.net', 'hotmail.es', 'msn.com', 'optonline.net', 'live.com',\n",
       "       'mail.com', 'juno.com', 'prodigy.net.mx', 'me.com', 'bellsouth.net',\n",
       "       'aim.com', 'gmx.de', 'ymail.com', 'outlook.es', 'att.net',\n",
       "       'servicios-ta.com', 'charter.net'],\n",
       "      dtype='object')"
      ]
     },
     "execution_count": 95,
     "metadata": {},
     "output_type": "execute_result"
    }
   ],
   "source": [
    "value_counts = X.R_emaildomain.value_counts()\n",
    "value_counts[value_counts < 300].index"
   ]
  },
  {
   "cell_type": "code",
   "execution_count": null,
   "metadata": {},
   "outputs": [],
   "source": []
  },
  {
   "cell_type": "code",
   "execution_count": 138,
   "metadata": {},
   "outputs": [
    {
     "ename": "TypeError",
     "evalue": "data type \"category\" not understood",
     "output_type": "error",
     "traceback": [
      "\u001b[0;31m---------------------------------------------------------------------------\u001b[0m",
      "\u001b[0;31mTypeError\u001b[0m                                 Traceback (most recent call last)",
      "\u001b[0;32m<ipython-input-138-3bcbc14906ca>\u001b[0m in \u001b[0;36m<module>\u001b[0;34m\u001b[0m\n\u001b[0;32m----> 1\u001b[0;31m \u001b[0mtype_col\u001b[0m \u001b[0;32min\u001b[0m \u001b[0;34m[\u001b[0m\u001b[0;34m'object'\u001b[0m\u001b[0;34m,\u001b[0m \u001b[0;34m'category'\u001b[0m\u001b[0;34m]\u001b[0m\u001b[0;34m\u001b[0m\u001b[0;34m\u001b[0m\u001b[0m\n\u001b[0m",
      "\u001b[0;31mTypeError\u001b[0m: data type \"category\" not understood"
     ]
    }
   ],
   "source": [
    "type_col in ['object', 'category']"
   ]
  },
  {
   "cell_type": "code",
   "execution_count": 147,
   "metadata": {},
   "outputs": [],
   "source": [
    "cat = 'card4'"
   ]
  },
  {
   "cell_type": "code",
   "execution_count": 231,
   "metadata": {},
   "outputs": [],
   "source": [
    "def group_small_cats_inplace(serie, prop=0.1):\n",
    "    value_counts = serie.value_counts()\n",
    "    # if we have less than 3 categories this is not useful\n",
    "    if len(value_counts) <  3:\n",
    "        return serie\n",
    "    \n",
    "    # Check type\n",
    "    type_col = serie.dtype\n",
    "    if  np.issubdtype(type_col, np.integer):\n",
    "        import warnings\n",
    "        warnings.warn(\"Float type is unexpected in category grouping. Please cast\\\n",
    "                        before to a object type or int\")\n",
    "        \n",
    "    # Filter the grouped cats\n",
    "    min_required = prop * len(serie)\n",
    "    non_passing = value_counts[value_counts < min_required].index\n",
    "    # If is object input others else input -1\n",
    "    if type_col == 'O':\n",
    "        serie.loc[ serie.isin(non_passing)] = 'Others'\n",
    "    else:\n",
    "        # If not, please be int, and please not be using -1\n",
    "        serie.loc[ serie.isin(non_passing)] = -1\n",
    "    return serie"
   ]
  },
  {
   "cell_type": "code",
   "execution_count": 232,
   "metadata": {},
   "outputs": [],
   "source": [
    "cat = "
   ]
  },
  {
   "cell_type": "code",
   "execution_count": 234,
   "metadata": {},
   "outputs": [
    {
     "name": "stdout",
     "output_type": "stream",
     "text": [
      "['credit' 'debit']\n"
     ]
    }
   ],
   "source": [
    "cat = 'card6'\n",
    "group_small_cats_inplace(X['card6'], prop=.5)\n",
    "print(X[cat].unique())"
   ]
  },
  {
   "cell_type": "code",
   "execution_count": 235,
   "metadata": {},
   "outputs": [
    {
     "name": "stdout",
     "output_type": "stream",
     "text": [
      "['Others' 'mastercard' 'visa']\n"
     ]
    }
   ],
   "source": [
    "cat = 'card4'\n",
    "group_small_cats_inplace(X[cat], prop=.3)\n",
    "print(X[cat].unique())"
   ]
  },
  {
   "cell_type": "code",
   "execution_count": null,
   "metadata": {},
   "outputs": [],
   "source": []
  }
 ],
 "metadata": {
  "kernelspec": {
   "display_name": "Python 3",
   "language": "python",
   "name": "python3"
  },
  "language_info": {
   "codemirror_mode": {
    "name": "ipython",
    "version": 3
   },
   "file_extension": ".py",
   "mimetype": "text/x-python",
   "name": "python",
   "nbconvert_exporter": "python",
   "pygments_lexer": "ipython3",
   "version": "3.8.1"
  }
 },
 "nbformat": 4,
 "nbformat_minor": 4
}

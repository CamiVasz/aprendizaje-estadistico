{
 "cells": [
  {
   "cell_type": "code",
   "execution_count": null,
   "metadata": {},
   "outputs": [],
   "source": [
    "import sys\n",
    "import numpy as np\n",
    "import pandas as pd\n",
    "import seaborn as sns\n",
    "\n",
    "sys.path.append('..')\n",
    "from utils import plot_counts_and_proportion, read_train_transaction, get_categorical_from_df\n",
    "from utils import preprocessing"
   ]
  },
  {
   "cell_type": "code",
   "execution_count": null,
   "metadata": {},
   "outputs": [],
   "source": [
    "X, y = read_train_transaction(nrows=5000)"
   ]
  },
  {
   "cell_type": "markdown",
   "metadata": {},
   "source": [
    "## IDEAS\n",
    "\n",
    "1. Cierto tipo de tarjetas son normalmente utilizadas para hacer transacciones de cantidades más altas, otras más bajas. El valor de la transacción está en *'TransactionAmt'*, pero deberiamos poner eso en proporción a la tarjeta utilizada. También valdría la pena compararlo con la desviación estandar.\n",
    "\n",
    "Entonces hay 3 ideas:\n",
    "estimar _mean_ y _std_\n",
    "- X[col] / (estimador de X[col] en la categoria utilizada en X[cat].()\n",
    "- X[col] / coeficiente_variacion  X[col] en la categoria utilizada en X[cat]\n",
    "\n",
    "\n",
    "*Utilizarlo con:*\n",
    "tarjeta 6 que es tipo de tarjeta\n",
    "tarjeta 4 que es compañia\n",
    "tarjeta 1, que no sé que es\n",
    "tarjeta 2, que no sé que es\n",
    "addr1, que histplot hace parecer que significa algo\n",
    "\n",
    "2. Separar los correos por puntos, para obtener, nombre dominio\n",
    "Así lo he visto utilizar\n",
    "train[['P_emaildomain_1', 'P_emaildomain_2', 'P_emaildomain_3']] = train['P_emaildomain'].str.split('.', expand=True)\n",
    "Haría esto\n",
    "\n",
    "\n",
    "\n",
    "\n"
   ]
  },
  {
   "cell_type": "code",
   "execution_count": null,
   "metadata": {},
   "outputs": [],
   "source": [
    "def prop_col_over_mean_category(X, col, cat, est='mean'):\n",
    "    '''\n",
    "    Retorna una columna de tamaño X[col], de tal manera\n",
    "    que sus componentes son\n",
    "     X[col] / (estimador de X[col] en la categoria utilizada en X[cat].()\n",
    "     \n",
    "     WARNINGS:\n",
    "         Usar est = 'std' puede propagar NaN si solo hay un elemento en cat.\n",
    "     \n",
    "     Inputs:\n",
    "         X:\n",
    "             Pandas dataframe\n",
    "        col:\n",
    "            column in X\n",
    "        cat:\n",
    "            Column in X, category\n",
    "        est:\n",
    "            Transformation utilizaed un df.groupby().transform\n",
    "            Can be median mean or std\n",
    "    Outputs:\n",
    "        S: Pandas series\n",
    "            as described above\n",
    "    '''\n",
    "    # Transform('mean') is diff to .mean()\n",
    "    # Transform returns a df of equal size,\n",
    "    # .mean() groups by \n",
    "    S = X[col] / X.groupby([cat])[col].transform(est)\n",
    "    return S"
   ]
  },
  {
   "cell_type": "code",
   "execution_count": null,
   "metadata": {},
   "outputs": [],
   "source": [
    "i = 2\n",
    "iindex = X.index[i]\n",
    "tarjeta_usada_por_transactioni = X.iloc[i, :]['card1']\n",
    "promedio_de_esa_tarjeta = X.groupby(['card1'])['TransactionAmt'].mean().loc[tarjeta_usada_por_transactioni]\n",
    "pago_original = X.loc[iindex, 'TransactionAmt']\n",
    "pago_div_prom_tarjeta = X.loc[iindex, 'TransactionAmt']/ promedio_de_esa_tarjeta\n",
    "\n",
    "print(f'''\n",
    "----- CLIENTE {i}  ------\n",
    "tarjeta_usada_por_transactioni -> {tarjeta_usada_por_transactioni}\n",
    "promedio de esa tajeta -> {promedio_de_esa_tarjeta}\n",
    "pago original cliente i -> {pago_original}\n",
    "pago_div_prom_tarjeta  -> {pago_div_prom_tarjeta}\n",
    "''')"
   ]
  },
  {
   "cell_type": "code",
   "execution_count": null,
   "metadata": {},
   "outputs": [],
   "source": [
    "prop_col_over_mean_category(X, 'TransactionAmt', 'card1', est='mean')"
   ]
  },
  {
   "cell_type": "code",
   "execution_count": null,
   "metadata": {},
   "outputs": [],
   "source": [
    "# from itertools import product\n",
    "\n",
    "# Crearia las siguientes\n",
    "# cols = ['TransactionAmt']\n",
    "# He visto que utilizan 'D15'\n",
    "### sns.distplot(X['D15'])\n",
    "# No se bien por qué\n",
    "\n",
    "# ests = ['mean', 'std'] # or ['median', 'std']\n",
    "\n",
    "# cats = ['card1', 'card2', 'card4', 'card6']\n",
    "# cats = [*cats, 'M1', 'M2', 'M3', 'M4', 'M5', 'M6'] # Nan propagation?\n",
    "# cats = [*cats, 'addr1', 'addr2']\n",
    "# for col, cat, est in product(cols, cats, ests):\n",
    "#     X[f'{col}_to_{est}_{cat}'] = prop_col_over_mean_category(X, col, cat, est)"
   ]
  },
  {
   "cell_type": "code",
   "execution_count": null,
   "metadata": {},
   "outputs": [],
   "source": [
    "#\n",
    "\n"
   ]
  },
  {
   "cell_type": "code",
   "execution_count": null,
   "metadata": {},
   "outputs": [],
   "source": [
    "def names_and_domains(mails):\n",
    "    df = mails.str.split('.', expand=True)\n",
    "    # We are translating the middle to last column rows in ['outlook', 'com', NaN]\n",
    "    # But not columns in ['outlook', 'com', 'es']\n",
    "    df[2].fillna(df[1], inplace=True)\n",
    "    return df.drop(1, axis=1)"
   ]
  },
  {
   "cell_type": "code",
   "execution_count": null,
   "metadata": {},
   "outputs": [],
   "source": [
    "X[['P_email1', 'P_email2']] =  names_and_domains(X['P_emaildomain'])\n",
    "X[['R_email1', 'R_email2']] =  names_and_domains(X['R_emaildomain'])"
   ]
  },
  {
   "cell_type": "code",
   "execution_count": null,
   "metadata": {},
   "outputs": [],
   "source": [
    "X[['P_email1', 'P_email2']].head()"
   ]
  },
  {
   "cell_type": "code",
   "execution_count": null,
   "metadata": {},
   "outputs": [],
   "source": [
    "X.drop('P_emaildomain', axis=1, inplace=True)"
   ]
  },
  {
   "cell_type": "markdown",
   "metadata": {},
   "source": [
    "# Transformada logaritmica"
   ]
  },
  {
   "cell_type": "code",
   "execution_count": null,
   "metadata": {},
   "outputs": [],
   "source": [
    "X['LogTransactionAmt'] = np.log(X['TransactionAmt'])"
   ]
  },
  {
   "cell_type": "code",
   "execution_count": null,
   "metadata": {},
   "outputs": [],
   "source": [
    "sns.distplot(X['TransactionAmt'])"
   ]
  },
  {
   "cell_type": "code",
   "execution_count": null,
   "metadata": {},
   "outputs": [],
   "source": [
    "sns.distplot(X['LogTransactionAmt'])"
   ]
  },
  {
   "cell_type": "markdown",
   "metadata": {},
   "source": [
    "# Agrupar los grupos pequeños en una sola categoría"
   ]
  },
  {
   "cell_type": "code",
   "execution_count": null,
   "metadata": {},
   "outputs": [],
   "source": [
    "value_counts = X.R_emaildomain.value_counts()\n",
    "value_counts[value_counts < 300].index"
   ]
  },
  {
   "cell_type": "code",
   "execution_count": null,
   "metadata": {},
   "outputs": [],
   "source": []
  },
  {
   "cell_type": "code",
   "execution_count": null,
   "metadata": {},
   "outputs": [],
   "source": [
    "cat = 'card4'"
   ]
  },
  {
   "cell_type": "code",
   "execution_count": null,
   "metadata": {},
   "outputs": [],
   "source": [
    "def group_small_cats_inplace(serie, prop=0.1):\n",
    "    value_counts = serie.value_counts()\n",
    "    # if we have less than 3 categories this is not useful\n",
    "    if len(value_counts) <  3:\n",
    "        return serie\n",
    "    \n",
    "    # Check type\n",
    "    type_col = serie.dtype\n",
    "    if  np.issubdtype(type_col, np.integer):\n",
    "        import warnings\n",
    "        warnings.warn(\"Float type is unexpected in category grouping. Please cast\\\n",
    "                        before to a object type or int\")\n",
    "        \n",
    "    # Filter the grouped cats\n",
    "    min_required = prop * len(serie)\n",
    "    non_passing = value_counts[value_counts < min_required].index\n",
    "    # If is object input others else input -1\n",
    "    if type_col == 'O':\n",
    "        serie.loc[ serie.isin(non_passing)] = 'Others'\n",
    "    else:\n",
    "        # If not, please be int, and please not be using -1\n",
    "        serie.loc[ serie.isin(non_passing)] = -1\n",
    "    return serie"
   ]
  },
  {
   "cell_type": "code",
   "execution_count": null,
   "metadata": {},
   "outputs": [],
   "source": [
    "cat = "
   ]
  },
  {
   "cell_type": "code",
   "execution_count": null,
   "metadata": {},
   "outputs": [],
   "source": [
    "cat = 'card6'\n",
    "group_small_cats_inplace(X['card6'], prop=.5)\n",
    "print(X[cat].unique())"
   ]
  },
  {
   "cell_type": "code",
   "execution_count": null,
   "metadata": {},
   "outputs": [],
   "source": [
    "cat = 'card4'\n",
    "group_small_cats_inplace(X[cat], prop=.3)\n",
    "print(X[cat].unique())"
   ]
  },
  {
   "cell_type": "code",
   "execution_count": null,
   "metadata": {},
   "outputs": [],
   "source": [
    "X.dtypes != float"
   ]
  },
  {
   "cell_type": "code",
   "execution_count": null,
   "metadata": {},
   "outputs": [],
   "source": [
    "X.dtypes.unique()"
   ]
  },
  {
   "cell_type": "code",
   "execution_count": null,
   "metadata": {},
   "outputs": [],
   "source": [
    "X.columns[X.dtypes "
   ]
  },
  {
   "cell_type": "code",
   "execution_count": null,
   "metadata": {},
   "outputs": [],
   "source": [
    "Xn = preprocessing(X, create_features_props_over_cats = False, \n",
    "                    group_cat_prop=False)"
   ]
  },
  {
   "cell_type": "code",
   "execution_count": null,
   "metadata": {},
   "outputs": [],
   "source": [
    "help(preprocessing)"
   ]
  },
  {
   "cell_type": "code",
   "execution_count": null,
   "metadata": {},
   "outputs": [],
   "source": []
  }
 ],
 "metadata": {
  "kernelspec": {
   "display_name": "Python 3",
   "language": "python",
   "name": "python3"
  },
  "language_info": {
   "codemirror_mode": {
    "name": "ipython",
    "version": 3
   },
   "file_extension": ".py",
   "mimetype": "text/x-python",
   "name": "python",
   "nbconvert_exporter": "python",
   "pygments_lexer": "ipython3",
   "version": "3.7.4"
  }
 },
 "nbformat": 4,
 "nbformat_minor": 4
}

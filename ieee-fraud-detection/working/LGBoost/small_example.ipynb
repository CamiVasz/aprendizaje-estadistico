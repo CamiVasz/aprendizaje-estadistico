{
 "cells": [
  {
   "cell_type": "code",
   "execution_count": 1,
   "metadata": {},
   "outputs": [],
   "source": [
    "import lightgbm as lgb\n",
    "from sklearn.model_selection import train_test_split\n",
    "import pandas as pd\n",
    "\n",
    "import sys\n",
    "sys.path.append('..')\n",
    "from utils import plot_counts_and_proportion, read_train_transaction, get_categorical_from_df, preprocessing"
   ]
  },
  {
   "cell_type": "code",
   "execution_count": 2,
   "metadata": {},
   "outputs": [],
   "source": [
    "X, y = read_train_transaction(nrows=5000, folder_path = '../../input/', RandomState=10)"
   ]
  },
  {
   "cell_type": "code",
   "execution_count": 3,
   "metadata": {},
   "outputs": [],
   "source": [
    "X, y = preprocessing(X, y, detect_outliers = False, convert_DT = True,\n",
    "            create_features_props_over_cats = False, group_cat_prop=False,\n",
    "            is_nan_indicators=False, imputation='new_category', mand_transf=True)"
   ]
  },
  {
   "cell_type": "code",
   "execution_count": 6,
   "metadata": {},
   "outputs": [
    {
     "data": {
      "text/plain": [
       "ProductCD     int8\n",
       "card1         int8\n",
       "card2         int8\n",
       "card3         int8\n",
       "card4         int8\n",
       "card5         int8\n",
       "card6         int8\n",
       "addr1         int8\n",
       "addr2         int8\n",
       "M1            int8\n",
       "M2            int8\n",
       "M3            int8\n",
       "M4            int8\n",
       "M5            int8\n",
       "M6            int8\n",
       "M7            int8\n",
       "M8            int8\n",
       "M9            int8\n",
       "P_email1      int8\n",
       "P_email2      int8\n",
       "R_email1      int8\n",
       "R_email2      int8\n",
       "_Weekdays    int64\n",
       "_Hours       int64\n",
       "_Days        int64\n",
       "dtype: object"
      ]
     },
     "execution_count": 6,
     "metadata": {},
     "output_type": "execute_result"
    }
   ],
   "source": [
    "X[X.columns[get_categorical_from_df(X)[0]]].dtypes"
   ]
  },
  {
   "cell_type": "code",
   "execution_count": null,
   "metadata": {},
   "outputs": [],
   "source": []
  },
  {
   "cell_type": "code",
   "execution_count": 5,
   "metadata": {},
   "outputs": [
    {
     "data": {
      "text/plain": [
       "Index(['ProductCD', 'card1', 'card2', 'card3', 'card4', 'card5', 'card6',\n",
       "       'addr1', 'addr2', 'M1', 'M2', 'M3', 'M4', 'M5', 'M6', 'M7', 'M8', 'M9',\n",
       "       'P_email1', 'P_email2', 'R_email1', 'R_email2', '_Weekdays', '_Hours',\n",
       "       '_Days'],\n",
       "      dtype='object')"
      ]
     },
     "execution_count": 5,
     "metadata": {},
     "output_type": "execute_result"
    }
   ],
   "source": [
    "X.columns[get_categorical_from_df(X)[0]]"
   ]
  }
 ],
 "metadata": {
  "kernelspec": {
   "display_name": "Python 3",
   "language": "python",
   "name": "python3"
  },
  "language_info": {
   "codemirror_mode": {
    "name": "ipython",
    "version": 3
   },
   "file_extension": ".py",
   "mimetype": "text/x-python",
   "name": "python",
   "nbconvert_exporter": "python",
   "pygments_lexer": "ipython3",
   "version": "3.8.1"
  }
 },
 "nbformat": 4,
 "nbformat_minor": 4
}
